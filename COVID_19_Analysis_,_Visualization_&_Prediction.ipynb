{
  "nbformat": 4,
  "nbformat_minor": 0,
  "metadata": {
    "kernelspec": {
      "display_name": "Python 3",
      "language": "python",
      "name": "python3"
    },
    "language_info": {
      "codemirror_mode": {
        "name": "ipython",
        "version": 3
      },
      "file_extension": ".py",
      "mimetype": "text/x-python",
      "name": "python",
      "nbconvert_exporter": "python",
      "pygments_lexer": "ipython3",
      "version": "3.7.4"
    },
    "colab": {
      "name": "COVID-19 Analysis , Visualization &  Prediction.ipynb",
      "provenance": [],
      "include_colab_link": true
    }
  },
  "cells": [
    {
      "cell_type": "markdown",
      "metadata": {
        "id": "view-in-github",
        "colab_type": "text"
      },
      "source": [
        "<a href=\"https://colab.research.google.com/github/hamxathirr/COVID-19-Analysis-Visualization-Prediction/blob/master/COVID_19_Analysis_%2C_Visualization_%26_Prediction.ipynb\" target=\"_parent\"><img src=\"https://colab.research.google.com/assets/colab-badge.svg\" alt=\"Open In Colab\"/></a>"
      ]
    },
    {
      "cell_type": "markdown",
      "metadata": {
        "id": "KM08h5EsVBYJ",
        "colab_type": "text"
      },
      "source": [
        " # COVID-19 Analysis ,visualization & Prediction"
      ]
    },
    {
      "cell_type": "code",
      "metadata": {
        "trusted": true,
        "id": "J2lXLiiTVBYK",
        "colab_type": "code",
        "colab": {}
      },
      "source": [
        "# import libraries\n",
        "import pandas as pd\n",
        "import numpy as np\n",
        "import seaborn as sns\n",
        "from matplotlib import pyplot as plt"
      ],
      "execution_count": 0,
      "outputs": []
    },
    {
      "cell_type": "code",
      "metadata": {
        "trusted": true,
        "id": "UV_-8kBCVBYN",
        "colab_type": "code",
        "colab": {}
      },
      "source": [
        "#Reading Data\n",
        "data=pd.read_csv('../input/novel-corona-virus-2019-dataset/covid_19_data.csv' ,parse_dates=['Last Update'])\n",
        "data.rename(columns={'ObservationDate':'Date', 'Country/Region':'Country'}, inplace=True)\n",
        "\n",
        "#Earliest Cases\n",
        "data.head()"
      ],
      "execution_count": 0,
      "outputs": []
    },
    {
      "cell_type": "code",
      "metadata": {
        "trusted": true,
        "id": "5d9pp0nDVBYQ",
        "colab_type": "code",
        "colab": {}
      },
      "source": [
        "data.shape"
      ],
      "execution_count": 0,
      "outputs": []
    },
    {
      "cell_type": "code",
      "metadata": {
        "trusted": true,
        "id": "Wy2nzQekVBYT",
        "colab_type": "code",
        "colab": {}
      },
      "source": [
        "#Missing Values\n",
        "data.isnull().sum().to_frame('nulls')"
      ],
      "execution_count": 0,
      "outputs": []
    },
    {
      "cell_type": "markdown",
      "metadata": {
        "id": "i0gPX451VBYV",
        "colab_type": "text"
      },
      "source": [
        "# Total Confirmed , Deaths and Recovered cases in the world 28/03/2020"
      ]
    },
    {
      "cell_type": "code",
      "metadata": {
        "trusted": true,
        "id": "kmqVat3ZVBYW",
        "colab_type": "code",
        "colab": {}
      },
      "source": [
        "df = data.groupby([\"Date\", \"Country\"])[['Date', 'Country', 'Confirmed', 'Deaths', 'Recovered']].sum().reset_index()\n",
        "sorted_By_Confirmed=df.sort_values('Confirmed',ascending=False)\n",
        "sorted_By_Confirmed=sorted_By_Confirmed.drop_duplicates('Country')\n",
        "\n",
        "world_Confirmed_Total=sorted_By_Confirmed['Confirmed'].sum()\n",
        "world_Deaths_Total=sorted_By_Confirmed['Deaths'].sum()\n",
        "world_Recovered_Total=sorted_By_Confirmed['Recovered'].sum()\n",
        "\n",
        "Active=world_Confirmed_Total-world_Deaths_Total-world_Recovered_Total\n",
        "\n",
        "world_Deaths_rate=(world_Deaths_Total*100)/world_Confirmed_Total\n",
        "world_Recovered_rate=(world_Recovered_Total*100)/world_Confirmed_Total\n",
        "\n",
        "China=sorted_By_Confirmed[sorted_By_Confirmed['Country']=='Mainland China']\n",
        "China_Recovered_rate=(int(China['Recovered'].values)*100)/int(China['Confirmed'].values)\n",
        "\n",
        "\n",
        "veri={'Total Confirmed cases  in the world':world_Confirmed_Total,'Total Deaths cases in the world':world_Deaths_Total,'Total Recovered cases in the world':world_Recovered_Total,'Total Active Cases':Active,'Rate of Recovered Cases %':world_Recovered_rate,'Rate of Deaths Cases %':world_Deaths_rate,'Rate of Recovered China cases %':China_Recovered_rate}\n",
        "veri=pd.DataFrame.from_dict(veri, orient='index' ,columns=['Total'])\n",
        "print(\"28/03/2020\") \n",
        "veri.style.background_gradient(cmap='Greens')"
      ],
      "execution_count": 0,
      "outputs": []
    },
    {
      "cell_type": "markdown",
      "metadata": {
        "id": "080Zqcs_VBYZ",
        "colab_type": "text"
      },
      "source": [
        "# Coron Virus With Numbers\n",
        "\n",
        "Confirmed --              Cumulative number of confirmed cases till that date <br>\n",
        "Deaths --               Cumulative number of of deaths till that date <br>\n",
        "Recovered --              Cumulative number of recovered cases till that date <br>\n",
        "Active -- Active Cases<br>\n",
        "Recovered Cases Rate % -- rate of Recovered Cases from total of Confirmed cases in same Country <br>\n",
        "Deaths Cases Rate % --    rate of death Cases from total of Confirmed cases in same Country <br>\n",
        "Total Cases Rate % --     rate of total cases from Total cases in the world <br>"
      ]
    },
    {
      "cell_type": "code",
      "metadata": {
        "trusted": true,
        "id": "YGfa2Xu4VBYZ",
        "colab_type": "code",
        "colab": {}
      },
      "source": [
        "Recovered_rate=(sorted_By_Confirmed['Recovered']*100)/sorted_By_Confirmed['Confirmed']\n",
        "Deaths_rate=(sorted_By_Confirmed['Deaths']*100)/sorted_By_Confirmed['Confirmed']\n",
        "cases_rate=(sorted_By_Confirmed.Confirmed*100)/world_Confirmed_Total\n",
        "\n",
        "sorted_By_Confirmed['Active']=sorted_By_Confirmed['Confirmed']-sorted_By_Confirmed['Deaths']-sorted_By_Confirmed['Recovered']\n",
        "sorted_By_Confirmed['Recovered Cases Rate %']=pd.DataFrame(Recovered_rate)\n",
        "sorted_By_Confirmed['Deaths Cases Rate %']=pd.DataFrame(Deaths_rate)\n",
        "sorted_By_Confirmed['Total Cases Rate %']=pd.DataFrame(cases_rate)\n",
        "\n",
        "\n",
        "print(\"Sorted By Confirmed Cases\")\n",
        "sorted_By_Confirmed.style.background_gradient(cmap='Reds')\n"
      ],
      "execution_count": 0,
      "outputs": []
    },
    {
      "cell_type": "code",
      "metadata": {
        "trusted": true,
        "id": "uMDLuJGGVBYd",
        "colab_type": "code",
        "colab": {}
      },
      "source": [
        "sns.set(style=\"whitegrid\")\n",
        "\n",
        "# Initialize the matplotlib figure\n",
        "f, ax = plt.subplots(figsize=(15,15 ))\n",
        "\n",
        "sns.barplot(x=\"Confirmed\", y=\"Country\", data=sorted_By_Confirmed.head(20),\n",
        "            label=\"Confirmed\", color=\"b\")\n",
        "\n",
        "# Plot the crashes where alcohol was involved\n",
        "sns.set_color_codes(\"muted\")\n",
        "sns.barplot(x=\"Recovered\", y=\"Country\", data=sorted_By_Confirmed.head(20),\n",
        "            label=\"Recovered\", color=\"g\")\n",
        "\n",
        "sns.set_color_codes(\"muted\")\n",
        "sns.barplot(x=\"Deaths\", y=\"Country\", data=sorted_By_Confirmed.head(20),\n",
        "            label=\"Deaths\", color=\"r\")\n",
        "\n",
        "# Add a legend and informative axis label\n",
        "ax.legend(ncol=2, loc=\"lower right\", frameon=True)\n"
      ],
      "execution_count": 0,
      "outputs": []
    },
    {
      "cell_type": "markdown",
      "metadata": {
        "id": "PliSnng-VBYg",
        "colab_type": "text"
      },
      "source": [
        "## What happened in one day ?  (New cases | New Deaths ) - 03/28/2020\n",
        "difference between 27/03 and 28/03"
      ]
    },
    {
      "cell_type": "code",
      "metadata": {
        "trusted": true,
        "id": "XlD_7w5CVBYh",
        "colab_type": "code",
        "colab": {}
      },
      "source": [
        "df_Difference = data.groupby([\"Date\", \"Country\"])[['Date', 'Country', 'Confirmed','Deaths']].sum().reset_index()\n",
        "sorted_By_Confirmed_Difference=df_Difference.sort_values('Country',ascending=False)\n",
        "\n",
        "x1=sorted_By_Confirmed_Difference[sorted_By_Confirmed_Difference.Date=='03/28/2020'].reset_index().drop('index',axis=1)\n",
        "x2=sorted_By_Confirmed_Difference[sorted_By_Confirmed_Difference.Date=='03/27/2020'].reset_index().drop('index',axis=1)\n",
        "\n",
        "h=pd.merge(x2,x1,on='Country')\n",
        "h['New Confirmed Cases']=h['Confirmed_y']-h['Confirmed_x']\n",
        "h['New Deaths ']=h['Deaths_y']-h['Deaths_x']\n",
        "\n",
        "h1=h.sort_values('New Confirmed Cases',ascending=False).head(50)\n",
        "h1=h1.drop(['Confirmed_x','Deaths_x','Date_x','Confirmed_y','Deaths_y'],axis=1).style.background_gradient(cmap='Greens')\n",
        "print(\"The New Cases in 28/03\")\n",
        "h1"
      ],
      "execution_count": 0,
      "outputs": []
    },
    {
      "cell_type": "markdown",
      "metadata": {
        "id": "Lp5SBOwLVBYj",
        "colab_type": "text"
      },
      "source": [
        "# Top 10  infected Countries"
      ]
    },
    {
      "cell_type": "code",
      "metadata": {
        "trusted": true,
        "id": "fGjtbkq1VBYk",
        "colab_type": "code",
        "colab": {}
      },
      "source": [
        "sorted_By_Confirmed1=sorted_By_Confirmed.head(10)\n",
        "x=sorted_By_Confirmed1.Country\n",
        "y=sorted_By_Confirmed1.Confirmed\n",
        "plt.rcParams['figure.figsize'] = (12, 10)\n",
        "sns.barplot(x,y,order=x ,palette=\"rocket\").set_title('Total Cases / Deaths / Recovered')  #graf çizdir (Most popular)"
      ],
      "execution_count": 0,
      "outputs": []
    },
    {
      "cell_type": "markdown",
      "metadata": {
        "id": "QzOItNneVBYm",
        "colab_type": "text"
      },
      "source": [
        "### Cases Rate per country of total cases in the world \n"
      ]
    },
    {
      "cell_type": "code",
      "metadata": {
        "trusted": true,
        "id": "TDvR8dn9VBYm",
        "colab_type": "code",
        "colab": {}
      },
      "source": [
        "Top7=sorted_By_Confirmed.iloc[0:8,-1].values\n",
        "others=sorted_By_Confirmed.iloc[8:,-1].sum()\n",
        "x=np.array(Top7)\n",
        "x2=np.array(others)\n",
        "rates=np.concatenate((x, x2), axis=None)\n",
        "\n",
        "rate_perCountry=pd.DataFrame(data=rates,index=[sorted_By_Confirmed['Country'].head(9)] ,columns=['rate'])\n",
        "rate_perCountry.rename(index={'Switzerland': \"other Countries\"},inplace=True)\n",
        "\n",
        "\n",
        "labels=rate_perCountry.index\n",
        "sizes=rate_perCountry['rate'].values\n",
        "\n",
        "explode = None  # explode 1st slice\n",
        "plt.subplots(figsize=(8,8))\n",
        "plt.pie(sizes, explode=explode, labels=labels,autopct='%1.1f%%', shadow=False, startangle=0)\n",
        "plt.axis('equal')\n",
        "print(\"cases rate per country of total cases in the world \")\n",
        "plt.show()"
      ],
      "execution_count": 0,
      "outputs": []
    },
    {
      "cell_type": "markdown",
      "metadata": {
        "id": "wphit9B6VBYq",
        "colab_type": "text"
      },
      "source": [
        "## Graphic that illustrates Increasing infections cases per day"
      ]
    },
    {
      "cell_type": "code",
      "metadata": {
        "trusted": true,
        "id": "Z5FeeZeyVBYr",
        "colab_type": "code",
        "colab": {}
      },
      "source": [
        "cases_per_Day = data.groupby([\"Date\"])['Confirmed','Deaths', 'Recovered'].sum().reset_index()\n",
        "sorted_By_Confirmed1=cases_per_Day.sort_values('Date',ascending=False)\n",
        "\n",
        "x=cases_per_Day.index\n",
        "\n",
        "y=cases_per_Day.Confirmed\n",
        "y1=cases_per_Day.Deaths\n",
        "y2=cases_per_Day.Recovered\n",
        "\n",
        "sns.set(style=\"whitegrid\")\n",
        "\n",
        "# Initialize the matplotlib figure\n",
        "f, ax = plt.subplots(figsize=(12,10 ))\n",
        "\n",
        "plt.scatter(x,y,color='blue' , label='Confirmed Cases')\n",
        "plt.scatter(x,y1,color='red' ,label=\"Deaths Cases\")\n",
        "plt.scatter(x,y2,color='green',label=\"Recovered Cases\")\n",
        "plt.title(\"Increasing infections cases in the world per day .\")\n",
        "ax.legend(ncol=2, loc='upper left', frameon=True)\n",
        "plt.show()"
      ],
      "execution_count": 0,
      "outputs": []
    },
    {
      "cell_type": "markdown",
      "metadata": {
        "id": "5cOZuuR4VBYt",
        "colab_type": "text"
      },
      "source": [
        "## Table that illustrates Increasing infections cases in the world per day ."
      ]
    },
    {
      "cell_type": "code",
      "metadata": {
        "trusted": true,
        "id": "dxOyU6NpVBYu",
        "colab_type": "code",
        "colab": {}
      },
      "source": [
        "sorted_By_Confirmed1.style.background_gradient(cmap='Reds')"
      ],
      "execution_count": 0,
      "outputs": []
    },
    {
      "cell_type": "markdown",
      "metadata": {
        "id": "aElD8iU8VBYw",
        "colab_type": "text"
      },
      "source": [
        "# Prediction Future cases"
      ]
    },
    {
      "cell_type": "code",
      "metadata": {
        "trusted": true,
        "id": "qtKPahVhVBYw",
        "colab_type": "code",
        "colab": {}
      },
      "source": [
        "#Train & Test Data \n",
        "x_data=pd.DataFrame(cases_per_Day.index)\n",
        "y_data=pd.DataFrame(cases_per_Day.Confirmed)\n"
      ],
      "execution_count": 0,
      "outputs": []
    },
    {
      "cell_type": "code",
      "metadata": {
        "trusted": true,
        "id": "8uoMM4FqVBYz",
        "colab_type": "code",
        "colab": {}
      },
      "source": [
        "from sklearn.model_selection import train_test_split\n",
        "x_train,x_test,y_train,y_test=train_test_split(x_data,y_data,test_size=0.1,random_state=0)"
      ],
      "execution_count": 0,
      "outputs": []
    },
    {
      "cell_type": "markdown",
      "metadata": {
        "id": "3VUJC26JVBY1",
        "colab_type": "text"
      },
      "source": [
        "# Polynomial Regression to predict future cases ."
      ]
    },
    {
      "cell_type": "code",
      "metadata": {
        "trusted": true,
        "id": "3K8UeCnDVBY1",
        "colab_type": "code",
        "colab": {}
      },
      "source": [
        "#Polynomal Regression (degree=5)\n",
        "from sklearn.linear_model import LinearRegression\n",
        "from sklearn.preprocessing import PolynomialFeatures\n",
        "\n",
        "poly_reg=PolynomialFeatures(degree=5)\n",
        "x_poly=poly_reg.fit_transform(x_train)\n",
        "lin_reg2=LinearRegression()\n",
        "lin_reg2.fit(x_poly,y_train)"
      ],
      "execution_count": 0,
      "outputs": []
    },
    {
      "cell_type": "markdown",
      "metadata": {
        "id": "48w_VKhJVBY5",
        "colab_type": "text"
      },
      "source": [
        "### Model Graphic  "
      ]
    },
    {
      "cell_type": "code",
      "metadata": {
        "trusted": true,
        "id": "BRJeihU4VBY6",
        "colab_type": "code",
        "colab": {}
      },
      "source": [
        "cases_per_Day = data.groupby([\"Date\"])['Confirmed','Deaths', 'Recovered'].sum().reset_index()\n",
        "sorted_By_Confirmed1=cases_per_Day.sort_values('Date',ascending=False)\n",
        "\n",
        "x=cases_per_Day.index\n",
        "\n",
        "y=cases_per_Day.Confirmed\n",
        "\n",
        "plt.scatter(x,y,color='red')\n",
        "plt.plot(x_test,lin_reg2.predict(poly_reg.fit_transform(x_test)),color='blue')\n",
        "plt.title(\"Polynomial Regression Model \")\n",
        "plt.show()"
      ],
      "execution_count": 0,
      "outputs": []
    },
    {
      "cell_type": "markdown",
      "metadata": {
        "id": "1QYefNHtVBY9",
        "colab_type": "text"
      },
      "source": [
        "## Test algorithm"
      ]
    },
    {
      "cell_type": "code",
      "metadata": {
        "trusted": true,
        "id": "3AAODfBrVBY9",
        "colab_type": "code",
        "colab": {}
      },
      "source": [
        "y_pred=lin_reg2.predict(poly_reg.fit_transform(x_test))\n",
        "\n",
        "result=pd.DataFrame(y_pred)\n",
        "result['Real Value']=y_test.iloc[:,:].values\n",
        "result['Predicted Value']=pd.DataFrame(y_pred)\n",
        "result=result[['Real Value','Predicted Value']]\n",
        "result"
      ],
      "execution_count": 0,
      "outputs": []
    },
    {
      "cell_type": "code",
      "metadata": {
        "trusted": true,
        "id": "wBLChnyJVBZA",
        "colab_type": "code",
        "colab": {}
      },
      "source": [
        "\n",
        "from sklearn.metrics import r2_score\n",
        "\n",
        "print('Polynomial Regession  R2 Score   : ',r2_score(y_test, y_pred))"
      ],
      "execution_count": 0,
      "outputs": []
    },
    {
      "cell_type": "markdown",
      "metadata": {
        "id": "imWb5aocVBZC",
        "colab_type": "text"
      },
      "source": [
        "# Make Predict For Future Days"
      ]
    },
    {
      "cell_type": "code",
      "metadata": {
        "trusted": true,
        "id": "Y2Pd-FUmVBZC",
        "colab_type": "code",
        "colab": {}
      },
      "source": [
        "#today is 03/28/2020\n",
        "print(\"After {0} day will be {1} case in the world\".format((70-len(cases_per_Day)),lin_reg2.predict(poly_reg.fit_transform([[70]]))))\n",
        "print(\"After {0} day will be {1} case in the world\".format((77-len(cases_per_Day)),lin_reg2.predict(poly_reg.fit_transform([[77]]))))\n",
        "print(\"After {0} day will be {1} case in the world\".format((87-len(cases_per_Day)),lin_reg2.predict(poly_reg.fit_transform([[87]]))))\n",
        "print(\"After {0} day will be {1} case in the world\".format((97-len(cases_per_Day)),lin_reg2.predict(poly_reg.fit_transform([[97]]))))\n",
        "print(\"After {0} day will be {1} case in the world\".format((107-len(cases_per_Day)),lin_reg2.predict(poly_reg.fit_transform([[107]]))))"
      ],
      "execution_count": 0,
      "outputs": []
    },
    {
      "cell_type": "markdown",
      "metadata": {
        "id": "h_H1bDBgVBZE",
        "colab_type": "text"
      },
      "source": [
        " If you like my Kernel,vote it please ... Thanks"
      ]
    }
  ]
}